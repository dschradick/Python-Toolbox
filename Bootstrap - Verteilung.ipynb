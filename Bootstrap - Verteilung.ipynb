{
 "cells": [
  {
   "cell_type": "code",
   "execution_count": 1,
   "metadata": {},
   "outputs": [],
   "source": [
    "import numpy as np\n",
    "import matplotlib.pyplot as plt\n",
    "import seaborn as sns"
   ]
  },
  {
   "cell_type": "markdown",
   "metadata": {},
   "source": [
    "# Kurzfassung"
   ]
  },
  {
   "cell_type": "markdown",
   "metadata": {},
   "source": [
    "## Mean"
   ]
  },
  {
   "cell_type": "code",
   "execution_count": 33,
   "metadata": {},
   "outputs": [
    {
     "name": "stdout",
     "output_type": "stream",
     "text": [
      "5.0\n",
      "[3.18181818 6.81818182]\n"
     ]
    },
    {
     "data": {
      "text/plain": [
       "<matplotlib.collections.LineCollection at 0x7fdfee4ee8d0>"
      ]
     },
     "execution_count": 33,
     "metadata": {},
     "output_type": "execute_result"
    },
    {
     "data": {
      "image/png": "[encoded data removed]",
      "text/plain": [
       "<Figure size 432x288 with 1 Axes>"
      ]
     },
     "metadata": {
      "needs_background": "light"
     },
     "output_type": "display_data"
    }
   ],
   "source": [
    "### KURZFASSUNG \n",
    "np.random.seed(seed=0)\n",
    "\n",
    "observed_sample = [0,1,2,3,4,5,6,7,8,9,10]\n",
    "stat = np.mean\n",
    "#stat = lambda a: np.percentile(a=a,q=95)  # Bootstrapping für 95% Quantil\n",
    "bs_samples = np.random.choice(observed_sample, size=[10000,len(observed_sample)], replace=True)\n",
    "bs_stats = np.apply_along_axis(stat, arr=bs_samples, axis=1)\n",
    "\n",
    "## Schätzung für Mittelwert\n",
    "estimate = np.percentile(bs_stats,q=[50])[0]\n",
    "print(estimate)\n",
    "## 95% Bootstrap-Konfidenzintervall\n",
    "conf_int = np.percentile(bs_stats,q=[2.75, 97.25])\n",
    "print(conf_int)\n",
    "\n",
    "## Boostrap-Approximation der Sampling Distribution\n",
    "sns.distplot(bs_stats,bins=15, kde=False, norm_hist=True)\n",
    "plt.vlines(estimate, ymin=0, ymax=.5, colors='r')\n",
    "plt.vlines(conf_int, ymin=0, ymax=.5, colors='g', linestyles='dashed')"
   ]
  },
  {
   "cell_type": "markdown",
   "metadata": {},
   "source": [
    "## Proportion"
   ]
  },
  {
   "cell_type": "code",
   "execution_count": 34,
   "metadata": {},
   "outputs": [
    {
     "name": "stdout",
     "output_type": "stream",
     "text": [
      "0.62\n",
      "[0.555 0.685]\n"
     ]
    },
    {
     "data": {
      "text/plain": [
       "<matplotlib.collections.LineCollection at 0x7fdfee4c6dd8>"
      ]
     },
     "execution_count": 34,
     "metadata": {},
     "output_type": "execute_result"
    },
    {
     "data": {
      "image/png": "[encoded data removed]",
      "text/plain": [
       "<Figure size 432x288 with 1 Axes>"
      ]
     },
     "metadata": {
      "needs_background": "light"
     },
     "output_type": "display_data"
    }
   ],
   "source": [
    "events      = 124\n",
    "trials      = 200\n",
    "proportion  = events / trials\n",
    "\n",
    "observed_sample = np.append(\n",
    "    np.zeros(trials - events),\n",
    "    np.ones(events))\n",
    "\n",
    "bs_samples = np.random.choice(observed_sample, size=[10000,len(observed_sample)], replace=True)\n",
    "bs_stats = np.apply_along_axis(stat, arr=bs_samples, axis=1)\n",
    "\n",
    "## Schätzung für Proportion\n",
    "estimate = np.percentile(bs_stats,q=[50])[0]\n",
    "print(estimate)\n",
    "## 95% Bootstrap-Konfidenzintervall\n",
    "conf_int = np.percentile(bs_stats,q=[2.75, 97.25])\n",
    "print(conf_int)\n",
    "\n",
    "## Boostrap-Approximation der Sampling Distribution\n",
    "sns.distplot(bs_stats,bins=15, kde=False, norm_hist=True)\n",
    "plt.vlines(estimate, ymin=0, ymax=10, colors='r')\n",
    "plt.vlines(conf_int, ymin=0, ymax=10, colors='g', linestyles='dashed')"
   ]
  },
  {
   "cell_type": "markdown",
   "metadata": {},
   "source": [
    "# Intuition"
   ]
  },
  {
   "cell_type": "code",
   "execution_count": 3,
   "metadata": {},
   "outputs": [],
   "source": [
    "#### Generieren eines bootstrap-sample\n",
    "def bootstrap_sample(sample):\n",
    "    return np.random.choice(sample,len(sample),replace=True)"
   ]
  },
  {
   "cell_type": "code",
   "execution_count": 4,
   "metadata": {},
   "outputs": [],
   "source": [
    "#### Generieren der Approximation der Sampling-Distribution\n",
    "def bootstrap_stats(size, sample):\n",
    "    b = np.array([])\n",
    "    for i in range(size):\n",
    "        b = np.append(b, bootstrap_sample(sample).mean())   # Für Mittelwert\n",
    "    return b\n",
    "    "
   ]
  },
  {
   "cell_type": "code",
   "execution_count": 5,
   "metadata": {},
   "outputs": [
    {
     "data": {
      "text/plain": [
       "array([2.54545455, 4.        , 5.18181818, 5.63636364, 6.09090909,\n",
       "       6.27272727, 4.81818182, 6.09090909, 4.72727273])"
      ]
     },
     "execution_count": 5,
     "metadata": {},
     "output_type": "execute_result"
    }
   ],
   "source": [
    "bstats = bootstrap_stats(10000,observed_sample)\n",
    "bstats[1:10]"
   ]
  },
  {
   "cell_type": "code",
   "execution_count": 6,
   "metadata": {},
   "outputs": [
    {
     "data": {
      "text/plain": [
       "0.9402752315542402"
      ]
     },
     "execution_count": 6,
     "metadata": {},
     "output_type": "execute_result"
    },
    {
     "data": {
      "image/png": "[encoded data removed]",
      "text/plain": [
       "<Figure size 432x288 with 1 Axes>"
      ]
     },
     "metadata": {
      "needs_background": "light"
     },
     "output_type": "display_data"
    }
   ],
   "source": [
    "sns.distplot(bstats,bins=15)\n",
    "np.std(bstats)"
   ]
  },
  {
   "cell_type": "code",
   "execution_count": 7,
   "metadata": {},
   "outputs": [
    {
     "name": "stdout",
     "output_type": "stream",
     "text": [
      "[5.]\n",
      "[3.18181818 6.81818182]\n"
     ]
    }
   ],
   "source": [
    "## Schätzung für Mittelwert\n",
    "print(np.percentile(bstats,q=[50]))\n",
    "\n",
    "#### 95% Bootstrap-Konfidenzintervall\n",
    "print(np.percentile(bstats,q=[2.75, 97.25]))"
   ]
  }
 ],
 "metadata": {
  "kernelspec": {
   "display_name": "Python 3",
   "language": "python",
   "name": "python3"
  },
  "language_info": {
   "codemirror_mode": {
    "name": "ipython",
    "version": 3
   },
   "file_extension": ".py",
   "mimetype": "text/x-python",
   "name": "python",
   "nbconvert_exporter": "python",
   "pygments_lexer": "ipython3",
   "version": "3.7.3"
  },
  "nteract": {
   "version": "0.21.0"
  },
  "toc": {
   "base_numbering": 1,
   "nav_menu": {},
   "number_sections": true,
   "sideBar": true,
   "skip_h1_title": false,
   "title_cell": "Table of Contents",
   "title_sidebar": "Contents",
   "toc_cell": false,
   "toc_position": {},
   "toc_section_display": true,
   "toc_window_display": false
  },
  "varInspector": {
   "cols": {
    "lenName": 16,
    "lenType": 16,
    "lenVar": 40
   },
   "kernels_config": {
    "python": {
     "delete_cmd_postfix": "",
     "delete_cmd_prefix": "del ",
     "library": "var_list.py",
     "varRefreshCmd": "print(var_dic_list())"
    },
    "r": {
     "delete_cmd_postfix": ") ",
     "delete_cmd_prefix": "rm(",
     "library": "var_list.r",
     "varRefreshCmd": "cat(var_dic_list()) "
    }
   },
   "types_to_exclude": [
    "module",
    "function",
    "builtin_function_or_method",
    "instance",
    "_Feature"
   ],
   "window_display": false
  }
 },
 "nbformat": 4,
 "nbformat_minor": 2
}
